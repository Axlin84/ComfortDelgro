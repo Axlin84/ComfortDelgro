{
 "cells": [
  {
   "cell_type": "code",
   "execution_count": 8,
   "metadata": {},
   "outputs": [
    {
     "name": "stdout",
     "output_type": "stream",
     "text": [
      "DimProducts.txt\n",
      "DimStores.txt\n",
      "FactStore.txt\n"
     ]
    }
   ],
   "source": [
    "#Using MS SQL Express -Created Database named:FactStore. Dim Products, Dim Stores & FactStore Tables were created too.\n",
    "#Data extracted to /dataextract/yy/MM/dd/factstore using pipe delimited format >> |\n",
    "\n",
    "#List the Extracted Data Files\n",
    "import os\n",
    "def files(path):\n",
    "    for file in os.listdir(path):\n",
    "        if os.path.isfile(os.path.join(path, file)):\n",
    "            yield file\n",
    "\n",
    "for file in files(\"./dataextract/yy/MM/dd/factstore\"):\n",
    "    print (file)\n",
    "\n",
    "\n"
   ]
  },
  {
   "cell_type": "code",
   "execution_count": 9,
   "metadata": {},
   "outputs": [
    {
     "name": "stdout",
     "output_type": "stream",
     "text": [
      "DateID           object\n",
      "StoreID          object\n",
      "ProductID        object\n",
      "OnHandQty        object\n",
      "OnOrderQty       object\n",
      "DaysInStock      object\n",
      "MinDayInStock    object\n",
      "MaxDayInStock    object\n",
      "dtype: object\n"
     ]
    }
   ],
   "source": [
    "import pandas as pd\n",
    "#Load FactStore Data schema file.\n",
    "\n",
    "dfFS = pd.read_csv('./dataextract/yy/MM/dd/factstore/FactStore.txt', sep='|')\n",
    "#Load into Panda DataFrame\n",
    "df = pd.DataFrame(dfFS )\n",
    "#Everything is in String\n",
    "print(df.dtypes)"
   ]
  },
  {
   "cell_type": "code",
   "execution_count": 10,
   "metadata": {},
   "outputs": [
    {
     "name": "stdout",
     "output_type": "stream",
     "text": [
      "DateID           datetime64[ns]\n",
      "StoreID                   int32\n",
      "ProductID                 int32\n",
      "OnHandQty                 int32\n",
      "OnOrderQty                int32\n",
      "DaysInStock               int32\n",
      "MinDayInStock             int32\n",
      "MaxDayInStock             int32\n",
      "dtype: object\n"
     ]
    }
   ],
   "source": [
    "#Convert string columns to the required data types\n",
    "df['DateID'] = pd.to_datetime(df['DateID'], format='%YYYY-%MM-%dd')\n",
    "df[\"StoreID\"] = df[\"StoreID\"].astype(str).astype(int)\n",
    "df[\"ProductID\"] = df[\"ProductID\"].astype(str).astype(int)\n",
    "df[\"OnHandQty\"] = df[\"OnHandQty\"].astype(str).astype(int)\n",
    "df[\"OnOrderQty\"] = df[\"OnOrderQty\"].astype(str).astype(int)\n",
    "df[\"DaysInStock\"] = df[\"DaysInStock\"].astype(str).astype(int)\n",
    "df[\"MinDayInStock\"] = df[\"MinDayInStock\"].astype(str).astype(int)\n",
    "df[\"MaxDayInStock\"] = df[\"MaxDayInStock\"].astype(str).astype(int)\n",
    "\n",
    "print (df.dtypes)"
   ]
  },
  {
   "cell_type": "code",
   "execution_count": 15,
   "metadata": {},
   "outputs": [
    {
     "name": "stdout",
     "output_type": "stream",
     "text": [
      "<class 'pandas.core.frame.DataFrame'>\n",
      "RangeIndex: 2517 entries, 0 to 2516\n",
      "Data columns (total 6 columns):\n",
      " #   Column                  Non-Null Count  Dtype \n",
      "---  ------                  --------------  ----- \n",
      " 0   ProductID               2517 non-null   int64 \n",
      " 1   ProductName             2517 non-null   object\n",
      " 2   ProductDescription      2516 non-null   object\n",
      " 3   ProductCategoryName     2517 non-null   object\n",
      " 4   ProductSubcategoryName  2517 non-null   object\n",
      " 5   Manufacturer            2517 non-null   object\n",
      "dtypes: int64(1), object(5)\n",
      "memory usage: 118.1+ KB\n"
     ]
    },
    {
     "data": {
      "text/html": [
       "<div>\n",
       "<style scoped>\n",
       "    .dataframe tbody tr th:only-of-type {\n",
       "        vertical-align: middle;\n",
       "    }\n",
       "\n",
       "    .dataframe tbody tr th {\n",
       "        vertical-align: top;\n",
       "    }\n",
       "\n",
       "    .dataframe thead th {\n",
       "        text-align: right;\n",
       "    }\n",
       "</style>\n",
       "<table border=\"1\" class=\"dataframe\">\n",
       "  <thead>\n",
       "    <tr style=\"text-align: right;\">\n",
       "      <th></th>\n",
       "      <th>ProductID</th>\n",
       "      <th>ProductName</th>\n",
       "      <th>ProductDescription</th>\n",
       "      <th>ProductCategoryName</th>\n",
       "      <th>ProductSubcategoryName</th>\n",
       "      <th>Manufacturer</th>\n",
       "    </tr>\n",
       "  </thead>\n",
       "  <tbody>\n",
       "    <tr>\n",
       "      <th>0</th>\n",
       "      <td>195</td>\n",
       "      <td>Litware Home Theater System 5.1 Channel M510 B...</td>\n",
       "      <td>1000 watts over 5 channels, HDMI up scaling to...</td>\n",
       "      <td>TV and Video</td>\n",
       "      <td>Home Theater System</td>\n",
       "      <td>Litware, Inc.</td>\n",
       "    </tr>\n",
       "    <tr>\n",
       "      <th>1</th>\n",
       "      <td>196</td>\n",
       "      <td>Litware Home Theater System 2.1 Channel E211 B...</td>\n",
       "      <td>2.1 channel home theater systems, includes 2 f...</td>\n",
       "      <td>TV and Video</td>\n",
       "      <td>Home Theater System</td>\n",
       "      <td>Litware, Inc.</td>\n",
       "    </tr>\n",
       "    <tr>\n",
       "      <th>2</th>\n",
       "      <td>197</td>\n",
       "      <td>Litware Home Theater System 2.1 Channel E212 B...</td>\n",
       "      <td>2.1 channel home theater system, total power: ...</td>\n",
       "      <td>TV and Video</td>\n",
       "      <td>Home Theater System</td>\n",
       "      <td>Litware, Inc.</td>\n",
       "    </tr>\n",
       "    <tr>\n",
       "      <th>3</th>\n",
       "      <td>198</td>\n",
       "      <td>Litware Home Theater System 4.1 Channel M411 B...</td>\n",
       "      <td>4.1 Channel Front Surround. 1080p/720p up conv...</td>\n",
       "      <td>TV and Video</td>\n",
       "      <td>Home Theater System</td>\n",
       "      <td>Litware, Inc.</td>\n",
       "    </tr>\n",
       "    <tr>\n",
       "      <th>4</th>\n",
       "      <td>199</td>\n",
       "      <td>Litware Home Theater System 4.1 Channel M412 B...</td>\n",
       "      <td>4.1 Channel Front Surround, USB host, analog i...</td>\n",
       "      <td>TV and Video</td>\n",
       "      <td>Home Theater System</td>\n",
       "      <td>Litware, Inc.</td>\n",
       "    </tr>\n",
       "  </tbody>\n",
       "</table>\n",
       "</div>"
      ],
      "text/plain": [
       "   ProductID                                        ProductName  \\\n",
       "0        195  Litware Home Theater System 5.1 Channel M510 B...   \n",
       "1        196  Litware Home Theater System 2.1 Channel E211 B...   \n",
       "2        197  Litware Home Theater System 2.1 Channel E212 B...   \n",
       "3        198  Litware Home Theater System 4.1 Channel M411 B...   \n",
       "4        199  Litware Home Theater System 4.1 Channel M412 B...   \n",
       "\n",
       "                                  ProductDescription ProductCategoryName  \\\n",
       "0  1000 watts over 5 channels, HDMI up scaling to...        TV and Video   \n",
       "1  2.1 channel home theater systems, includes 2 f...        TV and Video   \n",
       "2  2.1 channel home theater system, total power: ...        TV and Video   \n",
       "3  4.1 Channel Front Surround. 1080p/720p up conv...        TV and Video   \n",
       "4  4.1 Channel Front Surround, USB host, analog i...        TV and Video   \n",
       "\n",
       "  ProductSubcategoryName   Manufacturer  \n",
       "0    Home Theater System  Litware, Inc.  \n",
       "1    Home Theater System  Litware, Inc.  \n",
       "2    Home Theater System  Litware, Inc.  \n",
       "3    Home Theater System  Litware, Inc.  \n",
       "4    Home Theater System  Litware, Inc.  "
      ]
     },
     "execution_count": 15,
     "metadata": {},
     "output_type": "execute_result"
    }
   ],
   "source": [
    "##1.Query average number of stocks on hand by category.Load the DataSet.Encountered unicode error.\n",
    "#Used ISO-8859-1 to be compatible with Windows\n",
    "dfPrd = pd.read_csv('./dataextract/yy/MM/dd/factstore/DimProducts.txt', sep='|',encoding = \"ISO-8859-1\", engine='python')\n",
    "dfPrd.info()\n",
    "\n",
    "dfPrd.head()"
   ]
  },
  {
   "cell_type": "code",
   "execution_count": 46,
   "metadata": {},
   "outputs": [
    {
     "name": "stdout",
     "output_type": "stream",
     "text": [
      "ProductCategoryName\n",
      "Audio                            115\n",
      "Cameras and camcorders           372\n",
      "Cell phones                      285\n",
      "Computers                        606\n",
      "Games and Toys                   166\n",
      "Home Appliances                  661\n",
      "Music, Movies and Audio Books     90\n",
      "TV and Video                     222\n",
      "Name: ProductCategoryName, dtype: int64\n"
     ]
    }
   ],
   "source": [
    "#Expected Result #1: Query average number of stocks on hand by category.\n",
    "#Not possible to get the Ave number as each category name is being counted once each time.\n",
    "\n",
    "AveStocks =dfPrd.groupby(\"ProductCategoryName\")[\"ProductCategoryName\"].count()#.mean()\n",
    "print(AveStocks)\n",
    "\n",
    "\n",
    "\n"
   ]
  },
  {
   "cell_type": "code",
   "execution_count": 27,
   "metadata": {},
   "outputs": [
    {
     "name": "stdout",
     "output_type": "stream",
     "text": [
      "StoreType\n",
      "Catalog       1\n",
      "Online        3\n",
      "Reseller      3\n",
      "Store       298\n",
      "Name: StoreName, dtype: int64\n"
     ]
    }
   ],
   "source": [
    "#Expected Result #2: Query average number of stocks on hand by store\n",
    "#The Dim Store Table isnt linked to the Dim Products by a foreign id hence we can't join the 2 tables together\n",
    "#I can only tell you how many types of Stores there are\n",
    "\n",
    "dfStores = pd.read_csv('./dataextract/yy/MM/dd/factstore/DimStores.txt', sep='|',encoding = \"ISO-8859-1\", engine='python')\n",
    "\n",
    "dfSto = dfStores.groupby(\"StoreType\")[\"StoreName\"].count()\n",
    "print(dfSto)\n",
    "\n"
   ]
  },
  {
   "cell_type": "code",
   "execution_count": null,
   "metadata": {},
   "outputs": [],
   "source": []
  }
 ],
 "metadata": {
  "kernelspec": {
   "display_name": "Python 3",
   "language": "python",
   "name": "python3"
  },
  "language_info": {
   "codemirror_mode": {
    "name": "ipython",
    "version": 3
   },
   "file_extension": ".py",
   "mimetype": "text/x-python",
   "name": "python",
   "nbconvert_exporter": "python",
   "pygments_lexer": "ipython3",
   "version": "3.6.10"
  }
 },
 "nbformat": 4,
 "nbformat_minor": 4
}
